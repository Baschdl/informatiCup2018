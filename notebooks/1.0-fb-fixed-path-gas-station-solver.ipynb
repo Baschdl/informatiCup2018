{
 "cells": [
  {
   "cell_type": "code",
   "execution_count": 1,
   "metadata": {
    "collapsed": true
   },
   "outputs": [],
   "source": [
    "%matplotlib inline\n",
    "import pandas as pd\n",
    "import os\n",
    "import sys\n",
    "sys.path.append('..')\n",
    "from src.fixed_path_gas_station import fixed_path_gas_station as fpgs"
   ]
  },
  {
   "cell_type": "code",
   "execution_count": 2,
   "metadata": {
    "collapsed": true
   },
   "outputs": [],
   "source": [
    "ROUTE_PATH = os.path.join('..', 'data', 'raw', 'input_data', 'Eingabedaten','Fahrzeugrouten')\n",
    "BERTA_ROUTE_PATH = os.path.join(ROUTE_PATH,  'Bertha Benz Memorial Route.csv')\n",
    "\n",
    "GAS_STATIONS_PATH = os.path.join('..', 'data', 'raw', 'input_data', 'Eingabedaten', 'Tankstellen.csv')\n",
    "GAS_PRICE_PATH = os.path.join('..', 'data', 'raw', 'input_data', 'Eingabedaten', 'Benzinpreise')"
   ]
  },
  {
   "cell_type": "code",
   "execution_count": 3,
   "metadata": {
    "collapsed": true
   },
   "outputs": [],
   "source": [
    "with open(BERTA_ROUTE_PATH,'r') as f:\n",
    "    capacity = float(f.readline())\n",
    "bertas_route = pd.read_csv(BERTA_ROUTE_PATH, names=['Timestamp_str', 'Gas_Station_Id'], sep=';',skiprows=1)\n",
    "bertas_route['Timestamp'] = bertas_route['Timestamp_str'].apply(lambda x: pd.Timestamp(x))"
   ]
  },
  {
   "cell_type": "code",
   "execution_count": 4,
   "metadata": {
    "collapsed": true
   },
   "outputs": [],
   "source": [
    "gas_stations_df = pd.read_csv(GAS_STATIONS_PATH, sep=';', names=['id', 'Name', 'Company', 'Street', 'House_Number', 'Postalcode', 'City', 'Lat', 'Long'],index_col='id')"
   ]
  },
  {
   "cell_type": "code",
   "execution_count": 5,
   "metadata": {
    "collapsed": true
   },
   "outputs": [],
   "source": [
    "def load_price(gas_station_id, timestamp):\n",
    "    try:\n",
    "        gas_station = pd.read_csv(os.path.join(GAS_PRICE_PATH,'{}.csv'.format(gas_station_id)), names=['Timestamp', 'Price'],  index_col='Timestamp',parse_dates=['Timestamp'],sep=';')\n",
    "    except FileNotFoundError:\n",
    "        raise ValueError('You tried to access gas station with id {}, but it was not in the data.'.format(gas_station_id))\n",
    "    return gas_station[gas_station.index <= timestamp].iloc[-1]['Price']\n",
    "\n",
    "def millieuro2euro(millieuro):\n",
    "    return millieuro * 0.001"
   ]
  },
  {
   "cell_type": "code",
   "execution_count": 6,
   "metadata": {
    "collapsed": true
   },
   "outputs": [],
   "source": [
    "cost = []\n",
    "coordinates = []\n",
    "\n",
    "for index, row in bertas_route.iterrows():\n",
    "    cost.append(load_price(row['Gas_Station_Id'],row['Timestamp']))\n",
    "    coordinates.append(fpgs.Coordinate(gas_stations_df.loc[row['Gas_Station_Id']]['Lat']\n",
    "                                    ,gas_stations_df.loc[row['Gas_Station_Id']]['Long']))\n",
    "bertas_route['cost'] = cost\n",
    "bertas_route['coords'] = coordinates"
   ]
  },
  {
   "cell_type": "code",
   "execution_count": 7,
   "metadata": {
    "collapsed": true
   },
   "outputs": [],
   "source": [
    "start_fuel = 0\n",
    "result = fpgs.FixedPathGasStation(bertas_route, capacity, start_fuel)\n",
    "bertas_route['fill_liters'] = result.fill_liters\n",
    "bertas_route['dist_to_next'] = result.segment_distance"
   ]
  },
  {
   "cell_type": "code",
   "execution_count": 8,
   "metadata": {},
   "outputs": [
    {
     "data": {
      "text/plain": [
       "'Berta will pay 14.340753951663311€'"
      ]
     },
     "execution_count": 8,
     "metadata": {},
     "output_type": "execute_result"
    }
   ],
   "source": [
    "\"Berta will pay {}€\".format(millieuro2euro(result.price)) # should be 14.340753951663311"
   ]
  },
  {
   "cell_type": "code",
   "execution_count": 9,
   "metadata": {
    "collapsed": true
   },
   "outputs": [],
   "source": [
    "output=bertas_route[bertas_route['fill_liters']!=0][['Timestamp_str','Gas_Station_Id','cost','fill_liters']]\n",
    "output.to_csv(os.path.join(ROUTE_PATH,'result.csv'),index=False,sep=';',header=False)"
   ]
  },
  {
   "cell_type": "markdown",
   "metadata": {},
   "source": [
    "## Map"
   ]
  },
  {
   "cell_type": "code",
   "execution_count": 10,
   "metadata": {
    "collapsed": true
   },
   "outputs": [],
   "source": [
    "color = {\n",
    "    'light': '#8DC7B1',\n",
    "    'red':'#DD000B',\n",
    "    'green':'#C1FF00',\n",
    "    'blue':'#00B7FF',\n",
    "    'dark':'#2C3D49'\n",
    "}"
   ]
  },
  {
   "cell_type": "code",
   "execution_count": 11,
   "metadata": {
    "scrolled": false
   },
   "outputs": [
    {
     "data": {
      "application/vnd.jupyter.widget-view+json": {
       "model_id": "d20219861034490c93289ab351ff7e4e",
       "version_major": 2,
       "version_minor": 0
      },
      "text/html": [
       "<p>Failed to display Jupyter Widget of type <code>Map</code>.</p>\n",
       "<p>\n",
       "  If you're reading this message in the Jupyter Notebook or JupyterLab Notebook, it may mean\n",
       "  that the widgets JavaScript is still loading. If this message persists, it\n",
       "  likely means that the widgets JavaScript library is either not installed or\n",
       "  not enabled. See the <a href=\"https://ipywidgets.readthedocs.io/en/stable/user_install.html\">Jupyter\n",
       "  Widgets Documentation</a> for setup instructions.\n",
       "</p>\n",
       "<p>\n",
       "  If you're reading this message in another frontend (for example, a static\n",
       "  rendering on GitHub or <a href=\"https://nbviewer.jupyter.org/\">NBViewer</a>),\n",
       "  it may mean that your frontend doesn't currently support widgets.\n",
       "</p>\n"
      ],
      "text/plain": [
       "Map(center=[49.54950147, 8.449381135], layers=(TileLayer(attribution='Map data (c) <a href=\"https://openstreetmap.org\">OpenStreetMap</a> contributors', options=['detect_retina', 'min_zoom', 'tile_size', 'attribution', 'opacity', 'max_zoom'], url='https://{s}.tile.openstreetmap.org/{z}/{x}/{y}.png'), Polyline(color='#2C3D49', fill_opacity=0.0, locations=[[49.54950147, 8.449381135], [49.4889, 8.544410000000001], [49.4697, 8.56625], [49.47516629999999, 8.60604], [49.4749374, 8.658517999999999], [49.45155, 8.667119999999999], [49.4296, 8.68253], [49.39979, 8.69048], [49.354684000000006, 8.679659], [49.3293, 8.693337], [49.303295, 8.73808], [49.223374, 8.653619], [49.1553, 8.625982], [49.13613, 8.604289999999999], [49.0457, 8.526244], [48.982766, 8.549681], [48.953148999999996, 8.570406], [48.95221, 8.65925], [48.9097366, 8.718982], [49.0498, 8.734470000000002], [49.08014, 8.549252000000001], [49.14754, 8.58806], [49.18042, 8.5478], [49.211945, 8.527593], [49.251178741455, 8.5408201217651], [49.291956, 8.566597], [49.315259999999995, 8.577630000000001], [49.3603, 8.526795], [49.3798, 8.58478], [49.480352, 8.479399], [49.47509, 8.4874], [49.54950147, 8.449381135], [49.4889, 8.544410000000001], [49.4697, 8.56625], [49.47516629999999, 8.60604], [49.4749374, 8.658517999999999], [49.45155, 8.667119999999999], [49.4296, 8.68253], [49.39979, 8.69048], [49.354684000000006, 8.679659], [49.3293, 8.693337], [49.303295, 8.73808], [49.223374, 8.653619], [49.1553, 8.625982], [49.13613, 8.604289999999999], [49.0457, 8.526244], [48.982766, 8.549681], [48.953148999999996, 8.570406], [48.95221, 8.65925], [48.9097366, 8.718982], [49.0498, 8.734470000000002], [49.08014, 8.549252000000001], [49.14754, 8.58806], [49.18042, 8.5478], [49.211945, 8.527593], [49.251178741455, 8.5408201217651], [49.291956, 8.566597], [49.315259999999995, 8.577630000000001], [49.3603, 8.526795], [49.3798, 8.58478], [49.480352, 8.479399], [49.47509, 8.4874]], options=['clickable', 'fill_opacity', 'no_clip', 'line_join', 'weight', 'class_name', 'stroke', 'line_cap', 'fill', 'dash_array', 'color', 'opacity', 'fill_color', 'pointer_events', 'smooth_factor']), Circle(color='#00B7FF', fill_color='#00B7FF', fill_opacity=0.5, location=[49.54950147, 8.449381135], opacity=1.0, options=['fill_opacity', 'line_join', 'weight', 'class_name', 'stroke', 'line_cap', 'fill', 'dash_array', 'color', 'opacity', 'fill_color', 'pointer_events', 'clickable'], radius=500, weight=3), Circle(color='#00B7FF', fill_color='#00B7FF', fill_opacity=0.5, location=[49.4889, 8.544410000000001], opacity=1.0, options=['fill_opacity', 'line_join', 'weight', 'class_name', 'stroke', 'line_cap', 'fill', 'dash_array', 'color', 'opacity', 'fill_color', 'pointer_events', 'clickable'], radius=500, weight=3), Circle(color='#00B7FF', fill_color='#00B7FF', fill_opacity=0.5, location=[49.4697, 8.56625], opacity=1.0, options=['fill_opacity', 'line_join', 'weight', 'class_name', 'stroke', 'line_cap', 'fill', 'dash_array', 'color', 'opacity', 'fill_color', 'pointer_events', 'clickable'], radius=500, weight=3), Circle(color='#8DC7B1', fill_color='#8DC7B1', fill_opacity=0.5, location=[49.47516629999999, 8.60604], opacity=1.0, options=['fill_opacity', 'line_join', 'weight', 'class_name', 'stroke', 'line_cap', 'fill', 'dash_array', 'color', 'opacity', 'fill_color', 'pointer_events', 'clickable'], radius=500, weight=3), Circle(color='#8DC7B1', fill_color='#8DC7B1', fill_opacity=0.5, location=[49.4749374, 8.658517999999999], opacity=1.0, options=['fill_opacity', 'line_join', 'weight', 'class_name', 'stroke', 'line_cap', 'fill', 'dash_array', 'color', 'opacity', 'fill_color', 'pointer_events', 'clickable'], radius=500, weight=3), Circle(color='#C1FF00', fill_color='#C1FF00', fill_opacity=0.5, location=[49.45155, 8.667119999999999], opacity=1.0, options=['fill_opacity', 'line_join', 'weight', 'class_name', 'stroke', 'line_cap', 'fill', 'dash_array', 'color', 'opacity', 'fill_color', 'pointer_events', 'clickable'], radius=500, weight=3), Circle(color='#8DC7B1', fill_color='#8DC7B1', fill_opacity=0.5, location=[49.4296, 8.68253], opacity=1.0, options=['fill_opacity', 'line_join', 'weight', 'class_name', 'stroke', 'line_cap', 'fill', 'dash_array', 'color', 'opacity', 'fill_color', 'pointer_events', 'clickable'], radius=500, weight=3), Circle(color='#8DC7B1', fill_color='#8DC7B1', fill_opacity=0.5, location=[49.39979, 8.69048], opacity=1.0, options=['fill_opacity', 'line_join', 'weight', 'class_name', 'stroke', 'line_cap', 'fill', 'dash_array', 'color', 'opacity', 'fill_color', 'pointer_events', 'clickable'], radius=500, weight=3), Circle(color='#C1FF00', fill_color='#C1FF00', fill_opacity=0.5, location=[49.354684000000006, 8.679659], opacity=1.0, options=['fill_opacity', 'line_join', 'weight', 'class_name', 'stroke', 'line_cap', 'fill', 'dash_array', 'color', 'opacity', 'fill_color', 'pointer_events', 'clickable'], radius=500, weight=3), Circle(color='#8DC7B1', fill_color='#8DC7B1', fill_opacity=0.5, location=[49.3293, 8.693337], opacity=1.0, options=['fill_opacity', 'line_join', 'weight', 'class_name', 'stroke', 'line_cap', 'fill', 'dash_array', 'color', 'opacity', 'fill_color', 'pointer_events', 'clickable'], radius=500, weight=3), Circle(color='#C1FF00', fill_color='#C1FF00', fill_opacity=0.5, location=[49.303295, 8.73808], opacity=1.0, options=['fill_opacity', 'line_join', 'weight', 'class_name', 'stroke', 'line_cap', 'fill', 'dash_array', 'color', 'opacity', 'fill_color', 'pointer_events', 'clickable'], radius=500, weight=3), Circle(color='#8DC7B1', fill_color='#8DC7B1', fill_opacity=0.5, location=[49.223374, 8.653619], opacity=1.0, options=['fill_opacity', 'line_join', 'weight', 'class_name', 'stroke', 'line_cap', 'fill', 'dash_array', 'color', 'opacity', 'fill_color', 'pointer_events', 'clickable'], radius=500, weight=3), Circle(color='#8DC7B1', fill_color='#8DC7B1', fill_opacity=0.5, location=[49.1553, 8.625982], opacity=1.0, options=['fill_opacity', 'line_join', 'weight', 'class_name', 'stroke', 'line_cap', 'fill', 'dash_array', 'color', 'opacity', 'fill_color', 'pointer_events', 'clickable'], radius=500, weight=3), Circle(color='#8DC7B1', fill_color='#8DC7B1', fill_opacity=0.5, location=[49.13613, 8.604289999999999], opacity=1.0, options=['fill_opacity', 'line_join', 'weight', 'class_name', 'stroke', 'line_cap', 'fill', 'dash_array', 'color', 'opacity', 'fill_color', 'pointer_events', 'clickable'], radius=500, weight=3), Circle(color='#8DC7B1', fill_color='#8DC7B1', fill_opacity=0.5, location=[49.0457, 8.526244], opacity=1.0, options=['fill_opacity', 'line_join', 'weight', 'class_name', 'stroke', 'line_cap', 'fill', 'dash_array', 'color', 'opacity', 'fill_color', 'pointer_events', 'clickable'], radius=500, weight=3), Circle(color='#C1FF00', fill_color='#C1FF00', fill_opacity=0.5, location=[48.982766, 8.549681], opacity=1.0, options=['fill_opacity', 'line_join', 'weight', 'class_name', 'stroke', 'line_cap', 'fill', 'dash_array', 'color', 'opacity', 'fill_color', 'pointer_events', 'clickable'], radius=500, weight=3), Circle(color='#8DC7B1', fill_color='#8DC7B1', fill_opacity=0.5, location=[48.953148999999996, 8.570406], opacity=1.0, options=['fill_opacity', 'line_join', 'weight', 'class_name', 'stroke', 'line_cap', 'fill', 'dash_array', 'color', 'opacity', 'fill_color', 'pointer_events', 'clickable'], radius=500, weight=3), Circle(color='#8DC7B1', fill_color='#8DC7B1', fill_opacity=0.5, location=[48.95221, 8.65925], opacity=1.0, options=['fill_opacity', 'line_join', 'weight', 'class_name', 'stroke', 'line_cap', 'fill', 'dash_array', 'color', 'opacity', 'fill_color', 'pointer_events', 'clickable'], radius=500, weight=3), Circle(color='#00B7FF', fill_color='#00B7FF', fill_opacity=0.5, location=[48.9097366, 8.718982], opacity=1.0, options=['fill_opacity', 'line_join', 'weight', 'class_name', 'stroke', 'line_cap', 'fill', 'dash_array', 'color', 'opacity', 'fill_color', 'pointer_events', 'clickable'], radius=500, weight=3), Circle(color='#8DC7B1', fill_color='#8DC7B1', fill_opacity=0.5, location=[49.0498, 8.734470000000002], opacity=1.0, options=['fill_opacity', 'line_join', 'weight', 'class_name', 'stroke', 'line_cap', 'fill', 'dash_array', 'color', 'opacity', 'fill_color', 'pointer_events', 'clickable'], radius=500, weight=3), Circle(color='#8DC7B1', fill_color='#8DC7B1', fill_opacity=0.5, location=[49.08014, 8.549252000000001], opacity=1.0, options=['fill_opacity', 'line_join', 'weight', 'class_name', 'stroke', 'line_cap', 'fill', 'dash_array', 'color', 'opacity', 'fill_color', 'pointer_events', 'clickable'], radius=500, weight=3), Circle(color='#8DC7B1', fill_color='#8DC7B1', fill_opacity=0.5, location=[49.14754, 8.58806], opacity=1.0, options=['fill_opacity', 'line_join', 'weight', 'class_name', 'stroke', 'line_cap', 'fill', 'dash_array', 'color', 'opacity', 'fill_color', 'pointer_events', 'clickable'], radius=500, weight=3), Circle(color='#8DC7B1', fill_color='#8DC7B1', fill_opacity=0.5, location=[49.18042, 8.5478], opacity=1.0, options=['fill_opacity', 'line_join', 'weight', 'class_name', 'stroke', 'line_cap', 'fill', 'dash_array', 'color', 'opacity', 'fill_color', 'pointer_events', 'clickable'], radius=500, weight=3), Circle(color='#8DC7B1', fill_color='#8DC7B1', fill_opacity=0.5, location=[49.211945, 8.527593], opacity=1.0, options=['fill_opacity', 'line_join', 'weight', 'class_name', 'stroke', 'line_cap', 'fill', 'dash_array', 'color', 'opacity', 'fill_color', 'pointer_events', 'clickable'], radius=500, weight=3), Circle(color='#00B7FF', fill_color='#00B7FF', fill_opacity=0.5, location=[49.251178741455, 8.5408201217651], opacity=1.0, options=['fill_opacity', 'line_join', 'weight', 'class_name', 'stroke', 'line_cap', 'fill', 'dash_array', 'color', 'opacity', 'fill_color', 'pointer_events', 'clickable'], radius=500, weight=3), Circle(color='#8DC7B1', fill_color='#8DC7B1', fill_opacity=0.5, location=[49.291956, 8.566597], opacity=1.0, options=['fill_opacity', 'line_join', 'weight', 'class_name', 'stroke', 'line_cap', 'fill', 'dash_array', 'color', 'opacity', 'fill_color', 'pointer_events', 'clickable'], radius=500, weight=3), Circle(color='#8DC7B1', fill_color='#8DC7B1', fill_opacity=0.5, location=[49.315259999999995, 8.577630000000001], opacity=1.0, options=['fill_opacity', 'line_join', 'weight', 'class_name', 'stroke', 'line_cap', 'fill', 'dash_array', 'color', 'opacity', 'fill_color', 'pointer_events', 'clickable'], radius=500, weight=3), Circle(color='#8DC7B1', fill_color='#8DC7B1', fill_opacity=0.5, location=[49.3603, 8.526795], opacity=1.0, options=['fill_opacity', 'line_join', 'weight', 'class_name', 'stroke', 'line_cap', 'fill', 'dash_array', 'color', 'opacity', 'fill_color', 'pointer_events', 'clickable'], radius=500, weight=3), Circle(color='#8DC7B1', fill_color='#8DC7B1', fill_opacity=0.5, location=[49.3798, 8.58478], opacity=1.0, options=['fill_opacity', 'line_join', 'weight', 'class_name', 'stroke', 'line_cap', 'fill', 'dash_array', 'color', 'opacity', 'fill_color', 'pointer_events', 'clickable'], radius=500, weight=3), Circle(color='#00B7FF', fill_color='#00B7FF', fill_opacity=0.5, location=[49.480352, 8.479399], opacity=1.0, options=['fill_opacity', 'line_join', 'weight', 'class_name', 'stroke', 'line_cap', 'fill', 'dash_array', 'color', 'opacity', 'fill_color', 'pointer_events', 'clickable'], radius=500, weight=3), Circle(color='#8DC7B1', fill_color='#8DC7B1', fill_opacity=0.5, location=[49.47509, 8.4874], opacity=1.0, options=['fill_opacity', 'line_join', 'weight', 'class_name', 'stroke', 'line_cap', 'fill', 'dash_array', 'color', 'opacity', 'fill_color', 'pointer_events', 'clickable'], radius=500, weight=3)), layout=Layout(align_self='stretch', height='400px'), options=['touch_zoom', 'attribution_control', 'tap_tolerance', 'center', 'max_zoom', 'keyboard_zoom_offset', 'scroll_wheel_zoom', 'min_zoom', 'tap', 'dragging', 'zoom_control', 'inertia', 'world_copy_jump', 'close_popup_on_click', 'zoom_animation_threshold', 'double_click_zoom', 'keyboard', 'inertia_deceleration', 'box_zoom', 'keyboard_pan_offset', 'inertia_max_speed', 'zoom', 'zoom_start', 'bounce_at_zoom_limits'], zoom=10)"
      ]
     },
     "metadata": {},
     "output_type": "display_data"
    }
   ],
   "source": [
    "from ipyleaflet import Map, Polyline, CircleMarker, Circle\n",
    "\n",
    "m = Map(center=list(bertas_route.iloc[0]['coords']), zoom=10)\n",
    "\n",
    "path = [list(row['coords']) for i, row in bertas_route.iterrows()]\n",
    "p = Polyline(locations=path)\n",
    "p.fill_opacity = 0.0\n",
    "p.color=color['dark']\n",
    "m.add_layer(p)\n",
    "\n",
    "for index, row in bertas_route.iterrows():\n",
    "    cm = Circle(location=list(row['coords']), radius=500, weight=3,\n",
    "                  color=color['light'], fill_color=color['light'], opacity=1.0, fill_opacity=0.5)\n",
    "    if result.fill_command_km[index] == 'fill up':\n",
    "        cm.color=color['green']\n",
    "        cm.fill_color=color['green']\n",
    "    elif result.fill_liters[index] != 0.0:\n",
    "        cm.color=color['blue']\n",
    "        cm.fill_color=color['blue']\n",
    "    path.append(list(row['coords']))\n",
    "    m.add_layer(cm)\n",
    "m"
   ]
  },
  {
   "cell_type": "markdown",
   "metadata": {},
   "source": [
    "### Legend\n",
    "```green``` -  This is the cheapest gas station within the capacity of your tank, fill up as much as possible\n",
    "\n",
    "```blue``` -  We will run out of gas util we reach the next station, so fill up enough to go to the next cheapest station\n",
    "\n",
    "```gray``` - Don't stop"
   ]
  },
  {
   "cell_type": "code",
   "execution_count": null,
   "metadata": {
    "collapsed": true
   },
   "outputs": [],
   "source": []
  }
 ],
 "metadata": {
  "anaconda-cloud": {},
  "kernelspec": {
   "display_name": "Python 3",
   "language": "python",
   "name": "python3"
  },
  "language_info": {
   "codemirror_mode": {
    "name": "ipython",
    "version": 3
   },
   "file_extension": ".py",
   "mimetype": "text/x-python",
   "name": "python",
   "nbconvert_exporter": "python",
   "pygments_lexer": "ipython3",
   "version": "3.5.2"
  }
 },
 "nbformat": 4,
 "nbformat_minor": 1
}
