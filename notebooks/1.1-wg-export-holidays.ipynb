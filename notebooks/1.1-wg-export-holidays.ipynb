{
 "cells": [
  {
   "cell_type": "code",
   "execution_count": 4,
   "metadata": {},
   "outputs": [],
   "source": [
    "%matplotlib inline\n",
    "import os\n",
    "import pandas as pd\n",
    "from fbprophet import Prophet\n",
    "import json\n",
    "from datetime import datetime, timedelta"
   ]
  },
  {
   "cell_type": "code",
   "execution_count": 22,
   "metadata": {},
   "outputs": [],
   "source": [
    "def get_datetime_from_string(s, keep_utc=True):\n",
    "    if keep_utc:\n",
    "        return datetime.strptime(s + \"00\", '%Y-%m-%d %H:%M:%S%z')\n",
    "    else:\n",
    "        return datetime.strptime(s[:-3], '%Y-%m-%d %H:%M:%S')"
   ]
  },
  {
   "cell_type": "code",
   "execution_count": 1,
   "metadata": {},
   "outputs": [],
   "source": [
    "abbreviations = {'Baden-Württemberg': 'BW', 'Bayern': 'BY', 'Berlin': 'BE', 'Brandenburg': 'BB', 'Bremen': 'HB', 'Hamburg': 'HH', 'Hessen': 'HE', 'Mecklenburg-Vorpommern': 'MV', 'Niedersachsen': 'NI', 'Nordrhein-Westfalen': 'NW', 'Rheinland-Pfalz': 'RP', 'Saarland': 'SL', 'Sachsen': 'SN', 'Sachsen-Anhalt': 'ST', 'Schleswig-Holstein': 'SH', 'Thüringen': 'TH', 'unknown': 'unknown'}"
   ]
  },
  {
   "cell_type": "code",
   "execution_count": 8,
   "metadata": {},
   "outputs": [
    {
     "data": {
      "text/html": [
       "<div>\n",
       "<style scoped>\n",
       "    .dataframe tbody tr th:only-of-type {\n",
       "        vertical-align: middle;\n",
       "    }\n",
       "\n",
       "    .dataframe tbody tr th {\n",
       "        vertical-align: top;\n",
       "    }\n",
       "\n",
       "    .dataframe thead th {\n",
       "        text-align: right;\n",
       "    }\n",
       "</style>\n",
       "<table border=\"1\" class=\"dataframe\">\n",
       "  <thead>\n",
       "    <tr style=\"text-align: right;\">\n",
       "      <th></th>\n",
       "      <th>ds</th>\n",
       "      <th>holiday</th>\n",
       "    </tr>\n",
       "  </thead>\n",
       "  <tbody>\n",
       "    <tr>\n",
       "      <th>0</th>\n",
       "      <td>2014-04-14</td>\n",
       "      <td>Osterferien</td>\n",
       "    </tr>\n",
       "    <tr>\n",
       "      <th>1</th>\n",
       "      <td>2014-04-15</td>\n",
       "      <td>Osterferien</td>\n",
       "    </tr>\n",
       "    <tr>\n",
       "      <th>2</th>\n",
       "      <td>2014-04-16</td>\n",
       "      <td>Osterferien</td>\n",
       "    </tr>\n",
       "    <tr>\n",
       "      <th>3</th>\n",
       "      <td>2014-04-17</td>\n",
       "      <td>Osterferien</td>\n",
       "    </tr>\n",
       "    <tr>\n",
       "      <th>4</th>\n",
       "      <td>2014-04-18</td>\n",
       "      <td>Osterferien</td>\n",
       "    </tr>\n",
       "  </tbody>\n",
       "</table>\n",
       "</div>"
      ],
      "text/plain": [
       "          ds      holiday\n",
       "0 2014-04-14  Osterferien\n",
       "1 2014-04-15  Osterferien\n",
       "2 2014-04-16  Osterferien\n",
       "3 2014-04-17  Osterferien\n",
       "4 2014-04-18  Osterferien"
      ]
     },
     "execution_count": 8,
     "metadata": {},
     "output_type": "execute_result"
    }
   ],
   "source": [
    "# Export vacation information\n",
    "for _, state_name in abbreviations.items():\n",
    "    if state_name == 'unknown':\n",
    "        continue\n",
    "    years = []\n",
    "    names = []\n",
    "    for year in range(2014, 2019):\n",
    "        year_content = open(os.path.join('..', 'data', 'external', \"vacations_{}_{}.json\".format(year, state_name))).read()\n",
    "        year_dict = json.loads(year_content)\n",
    "        for date in year_dict[\"daten\"]:\n",
    "            start = datetime.fromtimestamp(date[\"beginn\"])\n",
    "            end = datetime.fromtimestamp(date[\"ende\"])\n",
    "            delta = (end - start).days\n",
    "            for vacation_date in range(0, delta + 1):\n",
    "                years.append(start + timedelta(days=vacation_date))\n",
    "                names.append(date[\"title\"].split(' ')[0])\n",
    "    df_vacations = pd.DataFrame({\n",
    "      'holiday': names,\n",
    "      'ds': pd.to_datetime(years),\n",
    "    })\n",
    "    df_vacations.to_csv(os.path.join('..', 'data', 'processed', \"vacations_{}.csv\".format(state_name)))\n",
    "df_vacations.head()"
   ]
  },
  {
   "cell_type": "code",
   "execution_count": 12,
   "metadata": {},
   "outputs": [
    {
     "data": {
      "text/html": [
       "<div>\n",
       "<style scoped>\n",
       "    .dataframe tbody tr th:only-of-type {\n",
       "        vertical-align: middle;\n",
       "    }\n",
       "\n",
       "    .dataframe tbody tr th {\n",
       "        vertical-align: top;\n",
       "    }\n",
       "\n",
       "    .dataframe thead th {\n",
       "        text-align: right;\n",
       "    }\n",
       "</style>\n",
       "<table border=\"1\" class=\"dataframe\">\n",
       "  <thead>\n",
       "    <tr style=\"text-align: right;\">\n",
       "      <th></th>\n",
       "      <th>ds</th>\n",
       "      <th>holiday</th>\n",
       "    </tr>\n",
       "  </thead>\n",
       "  <tbody>\n",
       "    <tr>\n",
       "      <th>0</th>\n",
       "      <td>2014-11-01</td>\n",
       "      <td>Allerheiligen</td>\n",
       "    </tr>\n",
       "    <tr>\n",
       "      <th>1</th>\n",
       "      <td>2014-06-09</td>\n",
       "      <td>Pfingstmontag</td>\n",
       "    </tr>\n",
       "    <tr>\n",
       "      <th>2</th>\n",
       "      <td>2014-06-19</td>\n",
       "      <td>Fronleichnam</td>\n",
       "    </tr>\n",
       "    <tr>\n",
       "      <th>3</th>\n",
       "      <td>2014-04-18</td>\n",
       "      <td>Karfreitag</td>\n",
       "    </tr>\n",
       "    <tr>\n",
       "      <th>4</th>\n",
       "      <td>2014-12-25</td>\n",
       "      <td>1. Weihnachtstag</td>\n",
       "    </tr>\n",
       "  </tbody>\n",
       "</table>\n",
       "</div>"
      ],
      "text/plain": [
       "          ds           holiday\n",
       "0 2014-11-01     Allerheiligen\n",
       "1 2014-06-09     Pfingstmontag\n",
       "2 2014-06-19      Fronleichnam\n",
       "3 2014-04-18        Karfreitag\n",
       "4 2014-12-25  1. Weihnachtstag"
      ]
     },
     "execution_count": 12,
     "metadata": {},
     "output_type": "execute_result"
    }
   ],
   "source": [
    "# Export holiday information\n",
    "for _, state_name in abbreviations.items():\n",
    "    if state_name == 'unknown':\n",
    "        continue\n",
    "    years = []\n",
    "    names = []\n",
    "    for year in range(2014, 2019):\n",
    "        year_content = open(os.path.join('..', 'data', 'external', \"holidays_{}.json\".format(year))).read()\n",
    "        year_dict = json.loads(year_content)\n",
    "        for day in year_dict[state_name].keys():\n",
    "            years.append(year_dict[state_name][day]['datum'])\n",
    "            names.append(day)\n",
    "    df_holidays = pd.DataFrame({\n",
    "      'holiday': names,\n",
    "      'ds': pd.to_datetime(years),\n",
    "    })\n",
    "    df_holidays.to_csv(os.path.join('..', 'data', 'processed', \"holidays_{}.csv\".format(state_name)))\n",
    "df_holidays.head()"
   ]
  }
 ],
 "metadata": {
  "kernelspec": {
   "display_name": "venv3_informaticup",
   "language": "python",
   "name": "venv3_informaticup"
  },
  "language_info": {
   "codemirror_mode": {
    "name": "ipython",
    "version": 3
   },
   "file_extension": ".py",
   "mimetype": "text/x-python",
   "name": "python",
   "nbconvert_exporter": "python",
   "pygments_lexer": "ipython3",
   "version": "3.5.2"
  }
 },
 "nbformat": 4,
 "nbformat_minor": 2
}
