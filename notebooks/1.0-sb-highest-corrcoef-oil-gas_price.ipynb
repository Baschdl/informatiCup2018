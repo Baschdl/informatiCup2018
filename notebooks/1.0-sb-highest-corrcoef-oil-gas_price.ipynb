{
 "cells": [
  {
   "cell_type": "code",
   "execution_count": 1,
   "metadata": {
    "collapsed": true
   },
   "outputs": [],
   "source": [
    "#%reload 2\n",
    "import matplotlib.pyplot as plt\n",
    "import quandl\n",
    "import pandas as pd\n",
    "import os\n",
    "import sys"
   ]
  },
  {
   "cell_type": "code",
   "execution_count": 2,
   "metadata": {
    "collapsed": true
   },
   "outputs": [],
   "source": [
    "quandl.ApiConfig.api_key = \"_epxy8PNMMrBFS5JL4_B\""
   ]
  },
  {
   "cell_type": "code",
   "execution_count": 3,
   "metadata": {
    "collapsed": true
   },
   "outputs": [],
   "source": [
    "GAS_STATIONS_PATH = os.path.join('..', 'data', 'raw', 'input_data', 'Eingabedaten', 'Tankstellen.csv')\n",
    "GAS_PRICE_PATH = os.path.join('..', 'data', 'raw', 'input_data', 'Eingabedaten', 'Benzinpreise')"
   ]
  },
  {
   "cell_type": "code",
   "execution_count": 4,
   "metadata": {
    "collapsed": true
   },
   "outputs": [],
   "source": [
    "start_date=\"2013-1-1\"\n",
    "end_date=\"2017-12-17\""
   ]
  },
  {
   "cell_type": "code",
   "execution_count": 5,
   "metadata": {
    "collapsed": true
   },
   "outputs": [],
   "source": [
    "gas_stations_df = pd.read_csv(GAS_STATIONS_PATH, sep=';', names=['id', 'Name', 'Company', 'Street', 'House_Number', 'Postalcode', 'City', 'Lat', 'Long'],index_col='id')"
   ]
  },
  {
   "cell_type": "code",
   "execution_count": 6,
   "metadata": {
    "collapsed": true
   },
   "outputs": [],
   "source": [
    "gas_station_id = 20"
   ]
  },
  {
   "cell_type": "code",
   "execution_count": 7,
   "metadata": {
    "collapsed": true
   },
   "outputs": [],
   "source": [
    "exchange = 'ODA/POILBRE_USD'\n",
    "dataset = quandl.Dataset(exchange)\n",
    "mydata = quandl.get(exchange, start_date=start_date, end_date=end_date)\n",
    "exchange_data = mydata.resample('1T').mean().bfill()"
   ]
  },
  {
   "cell_type": "code",
   "execution_count": null,
   "metadata": {},
   "outputs": [],
   "source": [
    "max_correlation_index = 0\n",
    "max_correlation = float('-inf')\n",
    "for gas_station_row in gas_stations_df.iterrows():\n",
    "    try:\n",
    "        gas_station_data = pd.read_csv(os.path.join(GAS_PRICE_PATH,'{}.csv'.format(gas_station_row[0])), names=['Timestamp', 'Price'],  index_col='Timestamp', parse_dates=['Timestamp'],sep=';')\n",
    "        gas_station_data.resample('1T').mean().bfill()\n",
    "        combined = exchange_data.merge(gas_station_data, left_index=True, right_index=True)\n",
    "        correlation = combined.corr()['Price'][0]\n",
    "        if max_correlation < correlation:\n",
    "            max_correlation = correlation\n",
    "            max_correlation_index = gas_station_row[0]\n",
    "    except FileNotFoundError:\n",
    "        pass"
   ]
  },
  {
   "cell_type": "code",
   "execution_count": null,
   "metadata": {},
   "outputs": [],
   "source": [
    "max_correlation"
   ]
  },
  {
   "cell_type": "code",
   "execution_count": null,
   "metadata": {},
   "outputs": [],
   "source": [
    "gas_stations_df.loc[max_correlation_index]"
   ]
  },
  {
   "cell_type": "code",
   "execution_count": null,
   "metadata": {},
   "outputs": [],
   "source": [
    "gas_station_data = pd.read_csv(os.path.join(GAS_PRICE_PATH,'{}.csv'.format(max_correlation_index)), names=['Timestamp', 'Price'],  index_col='Timestamp', parse_dates=['Timestamp'],sep=';')"
   ]
  },
  {
   "cell_type": "code",
   "execution_count": null,
   "metadata": {},
   "outputs": [],
   "source": [
    "fig, ax1 = plt.subplots()\n",
    "\n",
    "ax1.plot(gas_station_data, 'r', alpha=0.5)\n",
    "ax1.set_ylabel('Gasoline price in millicent at station ' + str(gas_station_id))\n",
    "\n",
    "ax2 = ax1.twinx()\n",
    "ax2.plot(mydata, 'b')\n",
    "ax2.set_ylabel(dataset.name)\n",
    "\n",
    "fig.autofmt_xdate()\n",
    "plt.show()"
   ]
  },
  {
   "cell_type": "code",
   "execution_count": null,
   "metadata": {
    "collapsed": true
   },
   "outputs": [],
   "source": []
  }
 ],
 "metadata": {
  "kernelspec": {
   "display_name": "Python 3",
   "language": "python",
   "name": "python3"
  },
  "language_info": {
   "codemirror_mode": {
    "name": "ipython",
    "version": 3
   },
   "file_extension": ".py",
   "mimetype": "text/x-python",
   "name": "python",
   "nbconvert_exporter": "python",
   "pygments_lexer": "ipython3",
   "version": "3.6.1"
  }
 },
 "nbformat": 4,
 "nbformat_minor": 2
}
